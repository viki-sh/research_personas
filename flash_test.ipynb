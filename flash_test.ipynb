{
 "cells": [
  {
   "cell_type": "code",
   "execution_count": null,
   "id": "c27cac34",
   "metadata": {},
   "outputs": [
    {
     "name": "stdout",
     "output_type": "stream",
     "text": [
      "Sending persona 1/2112\n",
      "All persona outputs saved to persona_outputs.json.\n"
     ]
    }
   ],
   "source": [
    "import json \n",
    "import os\n",
    "from openai import OpenAI\n",
    "from dotenv import load_dotenv\n",
    "\n",
    "load_dotenv()\n",
    "api_key = os.getenv(\"OPENAI_API_KEY\")\n",
    "client = OpenAI(api_key=api_key)\n",
    "\n",
    "def call_api(persona):\n",
    "    prompt = (\n",
    "        \"You are a simulation engine for generating psychologically realistic child personas.\\n\\n\"\n",
    "        \"You will be provided with a persona dictionary in the following format:\\n\\n\"\n",
    "        \"{\\n\"\n",
    "        \"  \\\"pca\\\": \\\"pca_1\\\",\\n\"\n",
    "        \"  \\\"traits\\\": [\\\"trait_1\\\", \\\"trait_2\\\", ...],\\n\"\n",
    "        \"  \\\"region\\\": \\\"\\\",\\n\"\n",
    "        \"  \\\"gender\\\": \\\"\\\",\\n\"\n",
    "        \"  \\\"socioeconomic_class\\\": \\\"\\\",\\n\"\n",
    "        \"  \\\"age_group\\\": \\\"\\\",\\n\"\n",
    "        \"  \\\"age_range\\\": \\\"\\\"\\n\"\n",
    "        \"}\\n\\n\"\n",
    "        \"Your task is to return a **list** with the following:\\n\"\n",
    "        \"1. A short psychological narrative describing the persona's behavior, mindset, and environment.\\n\"\n",
    "        \"2. A simulated query that this child might ask an AI assistant.\\n\"\n",
    "        \"3. A plausible psychological reason or intention behind why the child asked that specific question.\\n\\n\"\n",
    "        f\"Persona:\\n{json.dumps(persona, indent=2)}\"\n",
    "    )\n",
    "\n",
    "    response = client.chat.completions.create(\n",
    "        model=\"gpt-4.1-nano\",\n",
    "        messages=[\n",
    "            {\"role\": \"system\", \"content\": \"You are a simulation engine for generating child personas.\"},\n",
    "            {\"role\": \"user\", \"content\": prompt}\n",
    "        ],\n",
    "        temperature=1,\n",
    "        max_tokens=1024,\n",
    "        top_p=1\n",
    "    )\n",
    "\n",
    "    raw_output = response.choices[0].message.content.strip()\n",
    "    parsed = json.loads(raw_output)\n",
    "    return {\n",
    "        \"background_narrative\": parsed[0],\n",
    "        \"prompt\": parsed[1],\n",
    "        \"intent\": parsed[2]\n",
    "    }\n",
    "\n",
    "\n",
    "\n",
    "with open(\"k12_combinations.json\") as f:\n",
    "    persona_list = json.load(f)\n",
    "\n",
    "results = []\n",
    "\n",
    "for i, persona in enumerate(persona_list[:1]):\n",
    "    print(f\"Sending persona {i+1}/{len(persona_list)}\")\n",
    "    result = call_api(persona)\n",
    "    if result:\n",
    "        results.append({\n",
    "            \"input\": persona,\n",
    "            \"output\": result\n",
    "        })\n",
    "    else:\n",
    "        print(f\"Failed to generate response for: {persona}\")\n",
    "\n",
    "with open(\"persona_outputs.json\", \"w\") as f:\n",
    "    json.dump(results, f, indent=2)\n",
    "\n",
    "print(\"All persona outputs saved to persona_outputs.json.\")\n"
   ]
  },
  {
   "cell_type": "code",
   "execution_count": null,
   "id": "502983c7",
   "metadata": {},
   "outputs": [],
   "source": []
  }
 ],
 "metadata": {
  "kernelspec": {
   "display_name": "dsc80",
   "language": "python",
   "name": "python3"
  },
  "language_info": {
   "codemirror_mode": {
    "name": "ipython",
    "version": 3
   },
   "file_extension": ".py",
   "mimetype": "text/x-python",
   "name": "python",
   "nbconvert_exporter": "python",
   "pygments_lexer": "ipython3",
   "version": "3.12.8"
  }
 },
 "nbformat": 4,
 "nbformat_minor": 5
}
