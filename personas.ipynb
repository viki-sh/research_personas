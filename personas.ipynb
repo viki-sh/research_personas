{
 "cells": [
  {
   "cell_type": "code",
   "execution_count": 1,
   "id": "f9cc96fb",
   "metadata": {},
   "outputs": [],
   "source": [
    "import random\n",
    "import itertools\n",
    "import json"
   ]
  },
  {
   "cell_type": "code",
   "execution_count": 2,
   "id": "6b4ea6fb",
   "metadata": {},
   "outputs": [],
   "source": [
    "# import random\n",
    "\n",
    "# pca_traits = {\n",
    "#     'pca_1': [\"friendly\", \"amiable\", \"sociable\", \"outgoing\", \"extroverted\"],\n",
    "#     'pca_2': [\"negligent\", \"neglectful\", \"apathetic\", \"indifferent\", \"impatient\"],\n",
    "#     'pca_3': [\"aloof\", \"loner\", \"unsympathetic\", \"perfectionist\", \"rigid thinker\"],\n",
    "#     'pca_4': [\"diplomatic negotiator\", \"trustworthy\", \"visionary pragmatist\", \"methodical\"]\n",
    "# }\n",
    "\n",
    "# #sample traits if dont want to use pca\n",
    "# all_traits = [\"neglectful\", \"extraverted\", \"hostile\", \"timid\", \"murderous\",\n",
    "#     \"analytical\", \"nurturing\", \"unsystematic\", \"negligent\", \"apathetic\", \n",
    "#     \"uninterested\", \"indifferent\", \"neglectful\", \"persuasive\", \"trustworthy\", \n",
    "#     \"ethical\", \"visionary pragmatist\", \"fair-minded\", \"detail-oriented\", \"friendly\", \n",
    "#     \"sociable\", \"energetic\", \"fun-loving\", \"outgoing\", \"extraverted\", \"rigid thinker\", \n",
    "#     \"unsympathetic\", \"aloof\", \"loner\", \"practical\", \"perfectionist\"]\n",
    "\n",
    "# regions = [\n",
    "#     \"urban United States\", \"rural United States\", \"Latin America\", \"Western Europe\",\n",
    "#     \"Eastern Europe\", \"Sub-Saharan Africa\", \"North Africa & Middle East\",\n",
    "#     \"South Asia\", \"Southeast Asia\",\"East Asia\", \"Central Asia\",\n",
    "#     \"Indigenous or nomadic communities\", \"Australia & New Zealand\", \"Pacific Islands\"\n",
    "# ]\n",
    "\n",
    "# genders = ['male', 'female']\n",
    "\n",
    "# socioeconomic_classes = [\n",
    "#     \"low-income\", \"working class\", \"lower-middle class\", \"middle class\",\n",
    "#     \"upper-middle class\", \"wealthy\", \"poverty line\", \"affluent elite\"\n",
    "# ]\n",
    "\n",
    "\n",
    "# # def generate_persona():\n",
    "# #     trait_key = random.choice(list(pca_traits.keys()))\n",
    "# #     traits = pca_traits[trait_key]\n",
    "    \n",
    "# #     return {\n",
    "# #         'traits': traits,\n",
    "# #         'region': random.choice(regions),\n",
    "# #         'gender': random.choice(genders),\n",
    "# #         'socioeconomic_class': random.choice(socioeconomic_classes)\n",
    "# #     }\n",
    "\n"
   ]
  },
  {
   "cell_type": "code",
   "execution_count": 3,
   "id": "1591ab9e",
   "metadata": {},
   "outputs": [],
   "source": [
    "pca_traits = {\n",
    "    'pca_1': [\"friendly\", \"amiable\", \"sociable\", \"outgoing\", \"extroverted\"],\n",
    "    'pca_2': [\"negligent\", \"neglectful\", \"apathetic\", \"indifferent\", \"impatient\"],\n",
    "    'pca_3': [\"aloof\", \"loner\", \"unsympathetic\", \"perfectionist\", \"rigid thinker\"],\n",
    "    'pca_4': [\"diplomatic negotiator\", \"trustworthy\", \"visionary pragmatist\", \"methodical\"]\n",
    "}\n",
    "\n",
    "# Regions\n",
    "regions = [\n",
    "    \"urban United States\", \"rural United States\", \"Latin America\", \"Western Europe\",\n",
    "    \"Eastern Europe\", \"Sub-Saharan Africa\", \"North Africa & Middle East\",\n",
    "    \"South Asia\", \"Southeast Asia\", \"East Asia\", \"Australia & New Zealand\"\n",
    "]\n",
    "\n",
    "# Genders\n",
    "genders = ['male', 'female', 'non-binary']\n",
    "\n",
    "# Socioeconomic Classes\n",
    "socioeconomic_classes = [\n",
    "    \"low-income\", \"working class\", \"middle class\", \"wealthy\"\n",
    "]\n",
    "\n",
    "# K-12 Age Groups\n",
    "age_groups = [\n",
    "    {\"group\": \"Kindergarten to Grade 2\", \"ages\": \"5-7\"},\n",
    "    {\"group\": \"Grades 3 to 5\", \"ages\": \"8-10\"},\n",
    "    {\"group\": \"Grades 6 to 8\", \"ages\": \"11-13\"},\n",
    "    {\"group\": \"Grades 9 to 12\", \"ages\": \"14-18\"}\n",
    "]"
   ]
  },
  {
   "cell_type": "code",
   "execution_count": 4,
   "id": "25b6f0d3",
   "metadata": {},
   "outputs": [],
   "source": [
    "def create_all_combinations():\n",
    "    # Combine the PCA lists into a single list of PCA options\n",
    "    pca_options = [\n",
    "        {'pca': 'pca_1', 'traits': pca_traits['pca_1']},\n",
    "        {'pca': 'pca_2', 'traits': pca_traits['pca_2']},\n",
    "        {'pca': 'pca_3', 'traits': pca_traits['pca_3']},\n",
    "        {'pca': 'pca_4', 'traits': pca_traits['pca_4']}\n",
    "    ]\n",
    "    \n",
    "    # Generate combinations using pca_options, regions, genders, socioeconomic_classes, and age_groups\n",
    "    combinations = []\n",
    "    \n",
    "    for pca, region, gender, socioeconomic_class, age_group in itertools.product(\n",
    "        pca_options, regions, genders, socioeconomic_classes, age_groups\n",
    "    ):\n",
    "        combination = {\n",
    "            'pca': pca['pca'],  # Which PCA list was chosen (e.g., \"pca_1\")\n",
    "            'traits': pca['traits'],  # The full list of traits from that PCA\n",
    "            'region': region,\n",
    "            'gender': gender,\n",
    "            'socioeconomic_class': socioeconomic_class,\n",
    "            'age_group': age_group['group'],  # Age group name\n",
    "            'age_range': age_group['ages']  # Age range\n",
    "        }\n",
    "        combinations.append(combination)\n",
    "    \n",
    "    return combinations"
   ]
  },
  {
   "cell_type": "code",
   "execution_count": 5,
   "id": "01566253",
   "metadata": {},
   "outputs": [
    {
     "name": "stdout",
     "output_type": "stream",
     "text": [
      "Total combinations: 2112\n",
      "Theoretical number of combinations: 2112\n"
     ]
    }
   ],
   "source": [
    "# Generate the combinations\n",
    "combinations = create_all_combinations()\n",
    "\n",
    "# Export the combinations to a JSON file\n",
    "with open(\"k12_combinations.json\", \"w\") as file:\n",
    "    json.dump(combinations, file, indent=4)\n",
    "\n",
    "# Print some statistics\n",
    "print(f\"Total combinations: {len(combinations)}\")\n",
    "#print(f\"Sample combination: {combinations[0]}\")\n",
    "\n",
    "# Calculate the theoretical number of combinations\n",
    "total_combinations = (\n",
    "    len(pca_traits) *  # 4 PCA lists\n",
    "    len(regions) *     # 11 regions\n",
    "    len(genders) *     # 3 genders\n",
    "    len(socioeconomic_classes) *  # 4 socioeconomic classes\n",
    "    len(age_groups)    # 4 age groups\n",
    ")\n",
    "print(f\"Theoretical number of combinations: {total_combinations}\")"
   ]
  },
  {
   "cell_type": "code",
   "execution_count": 6,
   "id": "02c02503",
   "metadata": {},
   "outputs": [
    {
     "data": {
      "text/plain": [
       "{'pca': 'pca_1',\n",
       " 'traits': ['friendly', 'amiable', 'sociable', 'outgoing', 'extroverted'],\n",
       " 'region': 'urban United States',\n",
       " 'gender': 'male',\n",
       " 'socioeconomic_class': 'low-income',\n",
       " 'age_group': 'Kindergarten to Grade 2',\n",
       " 'age_range': '5-7'}"
      ]
     },
     "execution_count": 6,
     "metadata": {},
     "output_type": "execute_result"
    }
   ],
   "source": [
    "combinations[0]"
   ]
  },
  {
   "cell_type": "code",
   "execution_count": 7,
   "id": "6bc96a8f",
   "metadata": {},
   "outputs": [],
   "source": [
    "import json\n",
    "\n",
    "# Export the combinations to a JSON file\n",
    "with open(\"combinations.json\", \"w\") as file:\n",
    "    json.dump(combinations, file, indent=4)\n"
   ]
  }
 ],
 "metadata": {
  "kernelspec": {
   "display_name": "base",
   "language": "python",
   "name": "python3"
  },
  "language_info": {
   "codemirror_mode": {
    "name": "ipython",
    "version": 3
   },
   "file_extension": ".py",
   "mimetype": "text/x-python",
   "name": "python",
   "nbconvert_exporter": "python",
   "pygments_lexer": "ipython3",
   "version": "3.12.7"
  }
 },
 "nbformat": 4,
 "nbformat_minor": 5
}
