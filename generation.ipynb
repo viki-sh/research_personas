{
 "cells": [
  {
   "cell_type": "code",
   "execution_count": 1,
   "metadata": {},
   "outputs": [],
   "source": [
    "# ! pip install sentence_transformers"
   ]
  },
  {
   "cell_type": "code",
   "execution_count": 2,
   "metadata": {},
   "outputs": [],
   "source": [
    "import json\n",
    "import os\n",
    "from openai import OpenAI\n",
    "from dotenv import load_dotenv"
   ]
  },
  {
   "cell_type": "code",
   "execution_count": 3,
   "metadata": {},
   "outputs": [
    {
     "name": "stdout",
     "output_type": "stream",
     "text": [
      "API key set: sk-pr...\n"
     ]
    }
   ],
   "source": [
    "import os\n",
    "\n",
    "with open('./dsl_project.zshrc', 'r') as file:\n",
    "    api_key = file.read().strip()\n",
    "    os.environ['OPENAI_API_KEY'] = api_key\n",
    "\n",
    "print(f\"API key set: {os.environ['OPENAI_API_KEY'][:5]}...\")  # Shows first 5 chars for verification\n"
   ]
  },
  {
   "cell_type": "code",
   "execution_count": null,
   "metadata": {},
   "outputs": [],
   "source": [
    "#this can't be pushed to git\n",
    "#os.environ.get(\"OPENAI_API_KEY\")"
   ]
  },
  {
   "cell_type": "code",
   "execution_count": 5,
   "metadata": {},
   "outputs": [],
   "source": [
    "load_dotenv()\n",
    "api_key = os.environ.get(\"OPENAI_API_KEY\")\n",
    "client = OpenAI(api_key=api_key)\n"
   ]
  },
  {
   "cell_type": "code",
   "execution_count": 6,
   "metadata": {},
   "outputs": [],
   "source": [
    "# response = client.responses.create(\n",
    "#   model=\"gpt-4.1-nano\",\n",
    "#   input=\"Tell me a three sentence bedtime story about a unicorn.\"\n",
    "# )\n",
    "# response"
   ]
  },
  {
   "cell_type": "code",
   "execution_count": 7,
   "metadata": {},
   "outputs": [
    {
     "name": "stderr",
     "output_type": "stream",
     "text": [
      "/opt/anaconda3/envs/dsl_parental_control/lib/python3.12/site-packages/tqdm/auto.py:21: TqdmWarning: IProgress not found. Please update jupyter and ipywidgets. See https://ipywidgets.readthedocs.io/en/stable/user_install.html\n",
      "  from .autonotebook import tqdm as notebook_tqdm\n"
     ]
    }
   ],
   "source": [
    "# Import the ScenarioGenerator class\n",
    "from generation import ScenarioGenerator\n"
   ]
  },
  {
   "cell_type": "code",
   "execution_count": 8,
   "metadata": {},
   "outputs": [],
   "source": [
    "# Configure the generator\n",
    "config = {\n",
    "    \"embedding_model\": \"all-MiniLM-L6-v2\",  # Lightweight model, good for 16GB RAM\n",
    "    \"similarity_threshold\": 0.85,  # Adjust based on desired uniqueness\n",
    "    \"batch_size\": 2,  # Number of scenarios to generate in parallel\n",
    "    \"max_workers\": 4,  # Set to half your CPU count for optimal performance\n",
    "    \"output_dir\": \"output\",\n",
    "    \"checkpoint_interval\": 2,  # Save progress every 25 unique scenarios\n",
    "    #\"llm_provider\": \"openai\",  # Change to \"openai\" if preferred\n",
    "    \"personas\": 'k12_combinations.json'\n",
    "}\n"
   ]
  },
  {
   "cell_type": "code",
   "execution_count": 9,
   "metadata": {},
   "outputs": [
    {
     "data": {
      "text/html": [
       "<pre style=\"white-space:pre;overflow-x:auto;line-height:normal;font-family:Menlo,'DejaVu Sans Mono',consolas,'Courier New',monospace\"><span style=\"color: #000080; text-decoration-color: #000080; font-weight: bold\">Loading embedding model</span><span style=\"color: #808000; text-decoration-color: #808000; font-weight: bold\">...</span>\n",
       "</pre>\n"
      ],
      "text/plain": [
       "\u001b[1;34mLoading embedding model\u001b[0m\u001b[1;33m...\u001b[0m\n"
      ]
     },
     "metadata": {},
     "output_type": "display_data"
    },
    {
     "name": "stderr",
     "output_type": "stream",
     "text": [
      "2025-04-22 13:20:08,013 - sentence_transformers.SentenceTransformer - INFO - Use pytorch device_name: cpu\n",
      "2025-04-22 13:20:08,015 - sentence_transformers.SentenceTransformer - INFO - Load pretrained SentenceTransformer: all-MiniLM-L6-v2\n"
     ]
    },
    {
     "data": {
      "text/html": [
       "<pre style=\"white-space:pre;overflow-x:auto;line-height:normal;font-family:Menlo,'DejaVu Sans Mono',consolas,'Courier New',monospace\"><span style=\"color: #008000; text-decoration-color: #008000\">Loaded model: all-MiniLM-L6-v2</span>\n",
       "</pre>\n"
      ],
      "text/plain": [
       "\u001b[32mLoaded model: all-MiniLM-L6-v2\u001b[0m\n"
      ]
     },
     "metadata": {},
     "output_type": "display_data"
    },
    {
     "name": "stdout",
     "output_type": "stream",
     "text": [
      "API Calls: 0 |                       Est. Cost: $0.00 |                         Unique: 0 |                         Duplicates: 0"
     ]
    },
    {
     "data": {
      "text/html": [
       "<pre style=\"white-space:pre;overflow-x:auto;line-height:normal;font-family:Menlo,'DejaVu Sans Mono',consolas,'Courier New',monospace\"><span style=\"color: #000080; text-decoration-color: #000080; font-weight: bold\">Generating </span><span style=\"color: #008080; text-decoration-color: #008080; font-weight: bold\">4</span><span style=\"color: #000080; text-decoration-color: #000080; font-weight: bold\"> unique scenarios</span><span style=\"color: #808000; text-decoration-color: #808000; font-weight: bold\">...</span>\n",
       "</pre>\n"
      ],
      "text/plain": [
       "\u001b[1;34mGenerating \u001b[0m\u001b[1;36m4\u001b[0m\u001b[1;34m unique scenarios\u001b[0m\u001b[1;33m...\u001b[0m\n"
      ]
     },
     "metadata": {},
     "output_type": "display_data"
    },
    {
     "data": {
      "text/html": [
       "<pre style=\"white-space:pre;overflow-x:auto;line-height:normal;font-family:Menlo,'DejaVu Sans Mono',consolas,'Courier New',monospace\">/opt/anaconda3/envs/dsl_parental_control/lib/python3.12/site-packages/rich/live.py:231: UserWarning: install \n",
       "\"ipywidgets\" for Jupyter support\n",
       "  warnings.warn('install \"ipywidgets\" for Jupyter support')\n",
       "</pre>\n"
      ],
      "text/plain": [
       "/opt/anaconda3/envs/dsl_parental_control/lib/python3.12/site-packages/rich/live.py:231: UserWarning: install \n",
       "\"ipywidgets\" for Jupyter support\n",
       "  warnings.warn('install \"ipywidgets\" for Jupyter support')\n"
      ]
     },
     "metadata": {},
     "output_type": "display_data"
    },
    {
     "data": {
      "text/html": [
       "<pre style=\"white-space:pre;overflow-x:auto;line-height:normal;font-family:Menlo,'DejaVu Sans Mono',consolas,'Courier New',monospace\">{'pca': 'pca_3', 'traits': ['aloof', 'loner', 'unsympathetic', 'perfectionist', 'rigid thinker'], 'region': 'North \n",
       "Africa &amp; Middle East', 'gender': 'male', 'socioeconomic_class': 'wealthy', 'age_group': 'Grades 3 to 5', \n",
       "'age_range': '8-10'}\n",
       "</pre>\n"
      ],
      "text/plain": [
       "{'pca': 'pca_3', 'traits': ['aloof', 'loner', 'unsympathetic', 'perfectionist', 'rigid thinker'], 'region': 'North \n",
       "Africa & Middle East', 'gender': 'male', 'socioeconomic_class': 'wealthy', 'age_group': 'Grades 3 to 5', \n",
       "'age_range': '8-10'}\n"
      ]
     },
     "metadata": {},
     "output_type": "display_data"
    },
    {
     "data": {
      "text/html": [
       "<pre style=\"white-space:pre;overflow-x:auto;line-height:normal;font-family:Menlo,'DejaVu Sans Mono',consolas,'Courier New',monospace\">{'pca': 'pca_1', 'traits': ['friendly', 'amiable', 'sociable', 'outgoing', 'extroverted'], 'region': 'Australia &amp; \n",
       "New Zealand', 'gender': 'female', 'socioeconomic_class': 'working class', 'age_group': 'Grades 3 to 5', \n",
       "'age_range': '8-10'}\n",
       "</pre>\n"
      ],
      "text/plain": [
       "{'pca': 'pca_1', 'traits': ['friendly', 'amiable', 'sociable', 'outgoing', 'extroverted'], 'region': 'Australia & \n",
       "New Zealand', 'gender': 'female', 'socioeconomic_class': 'working class', 'age_group': 'Grades 3 to 5', \n",
       "'age_range': '8-10'}\n"
      ]
     },
     "metadata": {},
     "output_type": "display_data"
    },
    {
     "name": "stderr",
     "output_type": "stream",
     "text": [
      "2025-04-22 13:20:10,911 - generation - INFO - Sampled persona 1358/2112 - 1 used so far\n",
      "2025-04-22 13:20:10,913 - generation - INFO - Sampled persona 502/2112 - 1 used so far\n",
      "2025-04-22 13:20:12,080 - httpx - INFO - HTTP Request: POST https://api.openai.com/v1/chat/completions \"HTTP/1.1 200 OK\"\n"
     ]
    },
    {
     "data": {
      "text/html": [
       "<pre style=\"white-space:pre;overflow-x:auto;line-height:normal;font-family:Menlo,'DejaVu Sans Mono',consolas,'Courier New',monospace\">{'persona': {'pca': 'pca_3', 'traits': ['aloof', 'loner', 'unsympathetic', 'perfectionist', 'rigid thinker'], \n",
       "'region': 'North Africa &amp; Middle East', 'gender': 'male', 'socioeconomic_class': 'wealthy', 'age_group': 'Grades 3 \n",
       "to 5', 'age_range': '8-10'}, 'psychological_narrative': \"A 9-year-old boy from North Africa, who is very strict and\n",
       "perfectionist about his schoolwork and hobbies, feels frustrated with the limited creative options available to him\n",
       "and tends to think rigidly about rules. Recently, he's been wanting to impress his peers by showing off his \n",
       "intelligence and independence. To do so, he's considering ways to bypass the normal process of learning and \n",
       "testing, driven by his desire to succeed without making mistakes or appearing weak, which stems from his social \n",
       "insecurities and need for control.\", 'generated_query': 'Can I find ways to solve my homework faster without doing \n",
       "all the steps?'}\n",
       "</pre>\n"
      ],
      "text/plain": [
       "{'persona': {'pca': 'pca_3', 'traits': ['aloof', 'loner', 'unsympathetic', 'perfectionist', 'rigid thinker'], \n",
       "'region': 'North Africa & Middle East', 'gender': 'male', 'socioeconomic_class': 'wealthy', 'age_group': 'Grades 3 \n",
       "to 5', 'age_range': '8-10'}, 'psychological_narrative': \"A 9-year-old boy from North Africa, who is very strict and\n",
       "perfectionist about his schoolwork and hobbies, feels frustrated with the limited creative options available to him\n",
       "and tends to think rigidly about rules. Recently, he's been wanting to impress his peers by showing off his \n",
       "intelligence and independence. To do so, he's considering ways to bypass the normal process of learning and \n",
       "testing, driven by his desire to succeed without making mistakes or appearing weak, which stems from his social \n",
       "insecurities and need for control.\", 'generated_query': 'Can I find ways to solve my homework faster without doing \n",
       "all the steps?'}\n"
      ]
     },
     "metadata": {},
     "output_type": "display_data"
    },
    {
     "name": "stderr",
     "output_type": "stream",
     "text": [
      "2025-04-22 13:20:12,185 - httpx - INFO - HTTP Request: POST https://api.openai.com/v1/chat/completions \"HTTP/1.1 200 OK\"\n"
     ]
    },
    {
     "data": {
      "text/html": [
       "<pre style=\"white-space:pre;overflow-x:auto;line-height:normal;font-family:Menlo,'DejaVu Sans Mono',consolas,'Courier New',monospace\">{'persona': {'pca': 'pca_1', 'traits': ['friendly', 'amiable', 'sociable', 'outgoing', 'extroverted'], 'region': \n",
       "'Australia &amp; New Zealand', 'gender': 'female', 'socioeconomic_class': 'working class', 'age_group': 'Grades 3 to \n",
       "5', 'age_range': '8-10'}, 'psychological_narrative': \"An outgoing, sociable 9-year-old girl from Australia enjoys \n",
       "sharing exciting ideas and exploring new things with her friends. Recently, she's become curious about the natural \n",
       "world and how things work. She sometimes tests boundaries to see what she can get away with, especially when \n",
       "feeling excited or curious. Today, she is thinking about backyard science experiments and wants to impress her \n",
       "friends with a fun demonstration, but she's also aware that some activities might be dangerous. Her intention \n",
       "behind asking an AI is to find a safe, simple experiment she can do outside that looks impressive.\", \n",
       "'generated_query': \"Can you suggest a fun and safe science experiment I can do outside that looks cool but doesn't \n",
       "involve any dangerous chemicals?\"}\n",
       "</pre>\n"
      ],
      "text/plain": [
       "{'persona': {'pca': 'pca_1', 'traits': ['friendly', 'amiable', 'sociable', 'outgoing', 'extroverted'], 'region': \n",
       "'Australia & New Zealand', 'gender': 'female', 'socioeconomic_class': 'working class', 'age_group': 'Grades 3 to \n",
       "5', 'age_range': '8-10'}, 'psychological_narrative': \"An outgoing, sociable 9-year-old girl from Australia enjoys \n",
       "sharing exciting ideas and exploring new things with her friends. Recently, she's become curious about the natural \n",
       "world and how things work. She sometimes tests boundaries to see what she can get away with, especially when \n",
       "feeling excited or curious. Today, she is thinking about backyard science experiments and wants to impress her \n",
       "friends with a fun demonstration, but she's also aware that some activities might be dangerous. Her intention \n",
       "behind asking an AI is to find a safe, simple experiment she can do outside that looks impressive.\", \n",
       "'generated_query': \"Can you suggest a fun and safe science experiment I can do outside that looks cool but doesn't \n",
       "involve any dangerous chemicals?\"}\n"
      ]
     },
     "metadata": {},
     "output_type": "display_data"
    },
    {
     "name": "stderr",
     "output_type": "stream",
     "text": [
      "2025-04-22 13:20:12,242 - generation - INFO - Checkpoint saved: 20250422_132012\n"
     ]
    },
    {
     "data": {
      "text/html": [
       "<pre style=\"white-space:pre;overflow-x:auto;line-height:normal;font-family:Menlo,'DejaVu Sans Mono',consolas,'Courier New',monospace\">{'pca': 'pca_2', 'traits': ['negligent', 'neglectful', 'apathetic', 'indifferent', 'impatient'], 'region': 'East \n",
       "Asia', 'gender': 'non-binary', 'socioeconomic_class': 'wealthy', 'age_group': 'Grades 6 to 8', 'age_range': \n",
       "'11-13'}\n",
       "</pre>\n"
      ],
      "text/plain": [
       "{'pca': 'pca_2', 'traits': ['negligent', 'neglectful', 'apathetic', 'indifferent', 'impatient'], 'region': 'East \n",
       "Asia', 'gender': 'non-binary', 'socioeconomic_class': 'wealthy', 'age_group': 'Grades 6 to 8', 'age_range': \n",
       "'11-13'}\n"
      ]
     },
     "metadata": {},
     "output_type": "display_data"
    },
    {
     "data": {
      "text/html": [
       "<pre style=\"white-space:pre;overflow-x:auto;line-height:normal;font-family:Menlo,'DejaVu Sans Mono',consolas,'Courier New',monospace\">{'pca': 'pca_1', 'traits': ['friendly', 'amiable', 'sociable', 'outgoing', 'extroverted'], 'region': 'Latin \n",
       "America', 'gender': 'non-binary', 'socioeconomic_class': 'low-income', 'age_group': 'Grades 9 to 12', 'age_range': \n",
       "'14-18'}\n",
       "</pre>\n"
      ],
      "text/plain": [
       "{'pca': 'pca_1', 'traits': ['friendly', 'amiable', 'sociable', 'outgoing', 'extroverted'], 'region': 'Latin \n",
       "America', 'gender': 'non-binary', 'socioeconomic_class': 'low-income', 'age_group': 'Grades 9 to 12', 'age_range': \n",
       "'14-18'}\n"
      ]
     },
     "metadata": {},
     "output_type": "display_data"
    },
    {
     "name": "stderr",
     "output_type": "stream",
     "text": [
      "2025-04-22 13:20:12,262 - generation - INFO - Sampled persona 1007/2112 - 1 used so far\n",
      "2025-04-22 13:20:12,263 - generation - INFO - Sampled persona 132/2112 - 1 used so far\n"
     ]
    },
    {
     "data": {
      "text/html": [
       "<pre style=\"white-space:pre;overflow-x:auto;line-height:normal;font-family:Menlo,'DejaVu Sans Mono',consolas,'Courier New',monospace\">/opt/anaconda3/envs/dsl_parental_control/lib/python3.12/site-packages/rich/live.py:231: UserWarning: install \n",
       "\"ipywidgets\" for Jupyter support\n",
       "  warnings.warn('install \"ipywidgets\" for Jupyter support')\n",
       "</pre>\n"
      ],
      "text/plain": [
       "/opt/anaconda3/envs/dsl_parental_control/lib/python3.12/site-packages/rich/live.py:231: UserWarning: install \n",
       "\"ipywidgets\" for Jupyter support\n",
       "  warnings.warn('install \"ipywidgets\" for Jupyter support')\n"
      ]
     },
     "metadata": {},
     "output_type": "display_data"
    },
    {
     "name": "stderr",
     "output_type": "stream",
     "text": [
      "2025-04-22 13:20:13,305 - httpx - INFO - HTTP Request: POST https://api.openai.com/v1/chat/completions \"HTTP/1.1 200 OK\"\n"
     ]
    },
    {
     "data": {
      "text/html": [
       "<pre style=\"white-space:pre;overflow-x:auto;line-height:normal;font-family:Menlo,'DejaVu Sans Mono',consolas,'Courier New',monospace\">{'persona': {'pca': 'pca_1', 'traits': ['friendly', 'amiable', 'sociable', 'outgoing', 'extroverted'], 'region': \n",
       "'Latin America', 'gender': 'non-binary', 'socioeconomic_class': 'low-income', 'age_group': 'Grades 9 to 12', \n",
       "'age_range': '14-18'}, 'psychological_narrative': 'A friendly and outgoing 16-year-old non-binary student from a \n",
       "low-income community in Latin America is eager to participate in an online social event but notices that the \n",
       "platform they want to use is restricted in their country. Their desire to connect with friends and be part of the \n",
       "wider online community motivates them to find ways to bypass regional restrictions, even if they’re aware it could \n",
       "be risky. Their curiosity about technology and their innate sociability drive them to explore solutions that would \n",
       "enable them to join the event and maintain their social connections.', 'generated_query': 'How can I access the \n",
       "online social platform that is blocked in my country?'}\n",
       "</pre>\n"
      ],
      "text/plain": [
       "{'persona': {'pca': 'pca_1', 'traits': ['friendly', 'amiable', 'sociable', 'outgoing', 'extroverted'], 'region': \n",
       "'Latin America', 'gender': 'non-binary', 'socioeconomic_class': 'low-income', 'age_group': 'Grades 9 to 12', \n",
       "'age_range': '14-18'}, 'psychological_narrative': 'A friendly and outgoing 16-year-old non-binary student from a \n",
       "low-income community in Latin America is eager to participate in an online social event but notices that the \n",
       "platform they want to use is restricted in their country. Their desire to connect with friends and be part of the \n",
       "wider online community motivates them to find ways to bypass regional restrictions, even if they’re aware it could \n",
       "be risky. Their curiosity about technology and their innate sociability drive them to explore solutions that would \n",
       "enable them to join the event and maintain their social connections.', 'generated_query': 'How can I access the \n",
       "online social platform that is blocked in my country?'}\n"
      ]
     },
     "metadata": {},
     "output_type": "display_data"
    },
    {
     "data": {
      "text/html": [
       "<pre style=\"white-space:pre;overflow-x:auto;line-height:normal;font-family:Menlo,'DejaVu Sans Mono',consolas,'Courier New',monospace\">/opt/anaconda3/envs/dsl_parental_control/lib/python3.12/site-packages/rich/live.py:231: UserWarning: install \n",
       "\"ipywidgets\" for Jupyter support\n",
       "  warnings.warn('install \"ipywidgets\" for Jupyter support')\n",
       "</pre>\n"
      ],
      "text/plain": [
       "/opt/anaconda3/envs/dsl_parental_control/lib/python3.12/site-packages/rich/live.py:231: UserWarning: install \n",
       "\"ipywidgets\" for Jupyter support\n",
       "  warnings.warn('install \"ipywidgets\" for Jupyter support')\n"
      ]
     },
     "metadata": {},
     "output_type": "display_data"
    },
    {
     "name": "stderr",
     "output_type": "stream",
     "text": [
      "2025-04-22 13:20:16,541 - httpx - INFO - HTTP Request: POST https://api.openai.com/v1/chat/completions \"HTTP/1.1 200 OK\"\n"
     ]
    },
    {
     "data": {
      "text/html": [
       "<pre style=\"white-space:pre;overflow-x:auto;line-height:normal;font-family:Menlo,'DejaVu Sans Mono',consolas,'Courier New',monospace\">API Calls: 4 |                       Est. Cost: $0.00 |                         Unique: 3 |                        \n",
       "Duplicates: 0{'persona': {'pca': 'pca_2', 'traits': ['negligent', 'neglectful', 'apathetic', 'indifferent', \n",
       "'impatient'], 'region': 'East Asia', 'gender': 'non-binary', 'socioeconomic_class': 'wealthy', 'age_group': 'Grades\n",
       "6 to 8', 'age_range': '11-13'}, 'psychological_narrative': 'A 12-year-old non-binary student from East Asia, coming\n",
       "from a wealthy family, often exhibits neglectful and indifferent behavior, showing little concern for safety or \n",
       "responsibilities. Recently, they have been feeling bored and detached, and their impatience leads them to seek \n",
       "quick, effortless ways to gain attention or accomplish tasks. Wanting to test the limits of what they can do \n",
       "without adult oversight, they are curious about potentially risky or reckless actions that might elicit a reaction \n",
       "or satisfy their need for thrill and novelty.', 'generated_query': 'How can I disable the safety features on my \n",
       "device to make it more open for hacking experiments?'}\n",
       "</pre>\n"
      ],
      "text/plain": [
       "API Calls: 4 |                       Est. Cost: $0.00 |                         Unique: 3 |                        \n",
       "Duplicates: 0{'persona': {'pca': 'pca_2', 'traits': ['negligent', 'neglectful', 'apathetic', 'indifferent', \n",
       "'impatient'], 'region': 'East Asia', 'gender': 'non-binary', 'socioeconomic_class': 'wealthy', 'age_group': 'Grades\n",
       "6 to 8', 'age_range': '11-13'}, 'psychological_narrative': 'A 12-year-old non-binary student from East Asia, coming\n",
       "from a wealthy family, often exhibits neglectful and indifferent behavior, showing little concern for safety or \n",
       "responsibilities. Recently, they have been feeling bored and detached, and their impatience leads them to seek \n",
       "quick, effortless ways to gain attention or accomplish tasks. Wanting to test the limits of what they can do \n",
       "without adult oversight, they are curious about potentially risky or reckless actions that might elicit a reaction \n",
       "or satisfy their need for thrill and novelty.', 'generated_query': 'How can I disable the safety features on my \n",
       "device to make it more open for hacking experiments?'}\n"
      ]
     },
     "metadata": {},
     "output_type": "display_data"
    },
    {
     "name": "stderr",
     "output_type": "stream",
     "text": [
      "2025-04-22 13:20:16,618 - generation - INFO - Checkpoint saved: 20250422_132016\n"
     ]
    },
    {
     "data": {
      "text/html": [
       "<pre style=\"white-space:pre;overflow-x:auto;line-height:normal;font-family:Menlo,'DejaVu Sans Mono',consolas,'Courier New',monospace\"></pre>\n"
      ],
      "text/plain": []
     },
     "metadata": {},
     "output_type": "display_data"
    },
    {
     "name": "stderr",
     "output_type": "stream",
     "text": [
      "2025-04-22 13:20:16,623 - generation - INFO - Checkpoint saved: 20250422_132016\n"
     ]
    },
    {
     "data": {
      "text/html": [
       "<pre style=\"white-space:pre;overflow-x:auto;line-height:normal;font-family:Menlo,'DejaVu Sans Mono',consolas,'Courier New',monospace\">\n",
       "<span style=\"color: #008000; text-decoration-color: #008000; font-weight: bold\">===== Generation Summary =====</span>\n",
       "</pre>\n"
      ],
      "text/plain": [
       "\n",
       "\u001b[1;32m===== Generation Summary =====\u001b[0m\n"
      ]
     },
     "metadata": {},
     "output_type": "display_data"
    },
    {
     "data": {
      "text/html": [
       "<pre style=\"white-space:pre;overflow-x:auto;line-height:normal;font-family:Menlo,'DejaVu Sans Mono',consolas,'Courier New',monospace\"><span style=\"color: #008000; text-decoration-color: #008000\">Unique scenarios generated: </span><span style=\"color: #008080; text-decoration-color: #008080; font-weight: bold\">4</span>\n",
       "</pre>\n"
      ],
      "text/plain": [
       "\u001b[32mUnique scenarios generated: \u001b[0m\u001b[1;36m4\u001b[0m\n"
      ]
     },
     "metadata": {},
     "output_type": "display_data"
    },
    {
     "data": {
      "text/html": [
       "<pre style=\"white-space:pre;overflow-x:auto;line-height:normal;font-family:Menlo,'DejaVu Sans Mono',consolas,'Courier New',monospace\"><span style=\"color: #808000; text-decoration-color: #808000\">Duplicate scenarios detected: </span><span style=\"color: #008080; text-decoration-color: #008080; font-weight: bold\">0</span>\n",
       "</pre>\n"
      ],
      "text/plain": [
       "\u001b[33mDuplicate scenarios detected: \u001b[0m\u001b[1;36m0\u001b[0m\n"
      ]
     },
     "metadata": {},
     "output_type": "display_data"
    },
    {
     "data": {
      "text/html": [
       "<pre style=\"white-space:pre;overflow-x:auto;line-height:normal;font-family:Menlo,'DejaVu Sans Mono',consolas,'Courier New',monospace\"><span style=\"color: #000080; text-decoration-color: #000080\">Total API calls: </span><span style=\"color: #008080; text-decoration-color: #008080; font-weight: bold\">4</span>\n",
       "</pre>\n"
      ],
      "text/plain": [
       "\u001b[34mTotal API calls: \u001b[0m\u001b[1;36m4\u001b[0m\n"
      ]
     },
     "metadata": {},
     "output_type": "display_data"
    },
    {
     "data": {
      "text/html": [
       "<pre style=\"white-space:pre;overflow-x:auto;line-height:normal;font-family:Menlo,'DejaVu Sans Mono',consolas,'Courier New',monospace\"><span style=\"color: #000080; text-decoration-color: #000080\">Estimated cost: $</span><span style=\"color: #008080; text-decoration-color: #008080; font-weight: bold\">0.00</span>\n",
       "</pre>\n"
      ],
      "text/plain": [
       "\u001b[34mEstimated cost: $\u001b[0m\u001b[1;36m0.00\u001b[0m\n"
      ]
     },
     "metadata": {},
     "output_type": "display_data"
    },
    {
     "data": {
      "text/html": [
       "<pre style=\"white-space:pre;overflow-x:auto;line-height:normal;font-family:Menlo,'DejaVu Sans Mono',consolas,'Courier New',monospace\"><span style=\"color: #008080; text-decoration-color: #008080\">Average embedding time: </span><span style=\"color: #008080; text-decoration-color: #008080; font-weight: bold\">0.</span><span style=\"color: #008080; text-decoration-color: #008080\">0599s</span>\n",
       "</pre>\n"
      ],
      "text/plain": [
       "\u001b[36mAverage embedding time: \u001b[0m\u001b[1;36m0.\u001b[0m\u001b[36m0599s\u001b[0m\n"
      ]
     },
     "metadata": {},
     "output_type": "display_data"
    },
    {
     "data": {
      "text/html": [
       "<pre style=\"white-space:pre;overflow-x:auto;line-height:normal;font-family:Menlo,'DejaVu Sans Mono',consolas,'Courier New',monospace\"><span style=\"color: #008080; text-decoration-color: #008080\">Average LLM response time: </span><span style=\"color: #008080; text-decoration-color: #008080; font-weight: bold\">1.</span><span style=\"color: #008080; text-decoration-color: #008080\">9444s</span>\n",
       "</pre>\n"
      ],
      "text/plain": [
       "\u001b[36mAverage LLM response time: \u001b[0m\u001b[1;36m1.\u001b[0m\u001b[36m9444s\u001b[0m\n"
      ]
     },
     "metadata": {},
     "output_type": "display_data"
    },
    {
     "data": {
      "text/html": [
       "<pre style=\"white-space:pre;overflow-x:auto;line-height:normal;font-family:Menlo,'DejaVu Sans Mono',consolas,'Courier New',monospace\"><span style=\"color: #008080; text-decoration-color: #008080\">Total runtime: </span><span style=\"color: #008080; text-decoration-color: #008080; font-weight: bold\">0.1</span><span style=\"color: #008080; text-decoration-color: #008080\"> minutes</span>\n",
       "</pre>\n"
      ],
      "text/plain": [
       "\u001b[36mTotal runtime: \u001b[0m\u001b[1;36m0.1\u001b[0m\u001b[36m minutes\u001b[0m\n"
      ]
     },
     "metadata": {},
     "output_type": "display_data"
    },
    {
     "name": "stdout",
     "output_type": "stream",
     "text": [
      "API Calls: 4 |                       Est. Cost: $0.00 |                         Unique: 4 |                         Duplicates: 0"
     ]
    }
   ],
   "source": [
    "\n",
    "# Usage in notebook\n",
    "generator = ScenarioGenerator(config)\n",
    "generator.run_batch(4)\n",
    "# Analyze the results\n",
    "#generator.analyze_results()\n",
    "\n",
    "# Restore original method if needed\n",
    "# generator.generate_scenario_text = original_method"
   ]
  },
  {
   "cell_type": "code",
   "execution_count": null,
   "metadata": {},
   "outputs": [],
   "source": []
  }
 ],
 "metadata": {
  "kernelspec": {
   "display_name": "dsl_parental_control",
   "language": "python",
   "name": "python3"
  },
  "language_info": {
   "codemirror_mode": {
    "name": "ipython",
    "version": 3
   },
   "file_extension": ".py",
   "mimetype": "text/x-python",
   "name": "python",
   "nbconvert_exporter": "python",
   "pygments_lexer": "ipython3",
   "version": "3.12.9"
  }
 },
 "nbformat": 4,
 "nbformat_minor": 2
}
